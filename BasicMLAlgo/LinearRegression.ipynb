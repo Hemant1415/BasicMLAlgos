{
 "cells": [
  {
   "cell_type": "code",
   "execution_count": 1,
   "metadata": {},
   "outputs": [],
   "source": [
    "import random\n",
    "import numpy as np\n",
    "import matplotlib.pyplot as plt\n",
    "from sympy import symbols,diff"
   ]
  },
  {
   "cell_type": "code",
   "execution_count": 2,
   "metadata": {},
   "outputs": [],
   "source": [
    "def LinearReg(m,c):\n",
    "    list_x=[]\n",
    "    list_y=[]\n",
    "    mact=m\n",
    "    cact=c\n",
    "    list_e=[]\n",
    "    for i in range(100):\n",
    "        val=random.random()*10\n",
    "        val=round(val,3)\n",
    "        list_x.append(val)\n",
    "\n",
    "    for i in range(50):\n",
    "        val=random.random()*i**1.3\n",
    "        val=round(val,2)\n",
    "        list_e.append(val)\n",
    "\n",
    "    for i in range(50):\n",
    "        list_e.append(-list_e[i])\n",
    "    random.shuffle(list_e)\n",
    "    \n",
    "    for i in range(100):\n",
    "        val=(list_x[i])*mact+cact+list_e[i]\n",
    "        val=round(val,3)\n",
    "        list_y.append(val)\n",
    "    sumy=sum(list_y)\n",
    "    sumx=sum(list_x)\n",
    "    sumxy=0\n",
    "    for i in range(100):\n",
    "        sumxy+=list_x[i]*list_y[i]\n",
    "\n",
    "    sumx2=0\n",
    "    for i in list_x:\n",
    "        sumx2+=i**2\n",
    "\n",
    "\n",
    "    m=len(list_x)*(sumxy)-sumy*sumx\n",
    "    m=m/(len(list_x)*sumx2-(sumx)**2)\n",
    "\n",
    "    c= (sumy/(len(list_x))) - ((m*sumx)/len(list_x))\n",
    "\n",
    "    print(m)\n",
    "    print(c)\n",
    "\n",
    "    listp_y=[]\n",
    "    for i in list_x:\n",
    "        val=m*i+c\n",
    "        listp_y.append(val)\n",
    "\n",
    "    Lval=0\n",
    "    for i in range(100):\n",
    "        Lval+=(list_y[i]-listp_y[i])**2\n",
    "\n",
    "    varience=0\n",
    "    for i in range(100):\n",
    "        varience+=(list_y[i]-(sum(list_y)/len(list_y)))**2\n",
    "\n",
    "    accuracy=1-Lval/varience\n",
    "    print(accuracy)\n",
    "    plt.scatter(list_y,list_x)\n",
    "    plt.plot(listp_y,list_x,color=\"red\")\n",
    "    plt.show()\n",
    "\n",
    "    m,c =symbols(\"m c\")\n",
    "    \n"
   ]
  },
  {
   "cell_type": "code",
   "execution_count": 3,
   "metadata": {},
   "outputs": [
    {
     "name": "stdout",
     "output_type": "stream",
     "text": [
      "-8.00883998682612\n",
      "50.04486196074401\n",
      "0.2061666843290052\n"
     ]
    },
    {
     "data": {
      "image/png": "[encoded data removed]",
      "text/plain": [
       "<Figure size 640x480 with 1 Axes>"
      ]
     },
     "metadata": {},
     "output_type": "display_data"
    }
   ],
   "source": [
    "LinearReg(-8,50)"
   ]
  },
  {
   "cell_type": "code",
   "execution_count": null,
   "metadata": {},
   "outputs": [],
   "source": []
  }
 ],
 "metadata": {
  "kernelspec": {
   "display_name": "Python 3",
   "language": "python",
   "name": "python3"
  },
  "language_info": {
   "codemirror_mode": {
    "name": "ipython",
    "version": 3
   },
   "file_extension": ".py",
   "mimetype": "text/x-python",
   "name": "python",
   "nbconvert_exporter": "python",
   "pygments_lexer": "ipython3",
   "version": "3.12.5"
  }
 },
 "nbformat": 4,
 "nbformat_minor": 2
}
