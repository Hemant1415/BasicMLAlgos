{
 "cells": [
  {
   "cell_type": "code",
   "execution_count": 1,
   "metadata": {},
   "outputs": [],
   "source": [
    "import pandas as pd\n",
    "import nltk\n",
    "from nltk.corpus import stopwords\n",
    "from nltk.tokenize import word_tokenize\n",
    "stop_words = set(stopwords.words('english'))"
   ]
  },
  {
   "cell_type": "code",
   "execution_count": 2,
   "metadata": {},
   "outputs": [],
   "source": [
    "totalSpamWordCount=0\n",
    "totalHamWordCount=0\n",
    "file = open(\"DataSet.txt\", \"r\")\n",
    "content = file.read()\n",
    "\n",
    "\n",
    "messages = {}\n",
    "lines = content.strip().split('\\n')\n",
    "for index, line in enumerate(lines, start=1):\n",
    "    label, text = line.split('\\t', 1)\n",
    "    text=nltk.word_tokenize(text)\n",
    "    text = [word for word in text if word.lower() not in stop_words]\n",
    "    if label==\"spam\":\n",
    "        totalSpamWordCount+=len(text)\n",
    "    else:\n",
    "        totalHamWordCount+=len(text)\n",
    "    text=(\" \").join(text)\n",
    "    messages[text]=label\n",
    "\n",
    "\n",
    "    \n",
    "dfTrainingData=pd.DataFrame({\"Text\":[],\"Category\":[]})"
   ]
  },
  {
   "cell_type": "code",
   "execution_count": 3,
   "metadata": {},
   "outputs": [
    {
     "data": {
      "text/html": [
       "<div>\n",
       "<style scoped>\n",
       "    .dataframe tbody tr th:only-of-type {\n",
       "        vertical-align: middle;\n",
       "    }\n",
       "\n",
       "    .dataframe tbody tr th {\n",
       "        vertical-align: top;\n",
       "    }\n",
       "\n",
       "    .dataframe thead th {\n",
       "        text-align: right;\n",
       "    }\n",
       "</style>\n",
       "<table border=\"1\" class=\"dataframe\">\n",
       "  <thead>\n",
       "    <tr style=\"text-align: right;\">\n",
       "      <th></th>\n",
       "      <th>Text</th>\n",
       "      <th>Category</th>\n",
       "    </tr>\n",
       "  </thead>\n",
       "  <tbody>\n",
       "    <tr>\n",
       "      <th>0</th>\n",
       "      <td>Go jurong point , crazy .. Available bugis n g...</td>\n",
       "      <td>ham</td>\n",
       "    </tr>\n",
       "    <tr>\n",
       "      <th>1</th>\n",
       "      <td>Ok lar ... Joking wif u oni ...</td>\n",
       "      <td>ham</td>\n",
       "    </tr>\n",
       "    <tr>\n",
       "      <th>2</th>\n",
       "      <td>Free entry 2 wkly comp win FA Cup final tkts 2...</td>\n",
       "      <td>spam</td>\n",
       "    </tr>\n",
       "    <tr>\n",
       "      <th>3</th>\n",
       "      <td>U dun say early hor ... U c already say ...</td>\n",
       "      <td>ham</td>\n",
       "    </tr>\n",
       "    <tr>\n",
       "      <th>4</th>\n",
       "      <td>Nah n't think goes usf , lives around though</td>\n",
       "      <td>ham</td>\n",
       "    </tr>\n",
       "    <tr>\n",
       "      <th>...</th>\n",
       "      <td>...</td>\n",
       "      <td>...</td>\n",
       "    </tr>\n",
       "    <tr>\n",
       "      <th>5145</th>\n",
       "      <td>2nd time tried 2 contact u. U Â£750 Pound priz...</td>\n",
       "      <td>spam</td>\n",
       "    </tr>\n",
       "    <tr>\n",
       "      <th>5146</th>\n",
       "      <td>Ã¼ b going esplanade fr home ?</td>\n",
       "      <td>ham</td>\n",
       "    </tr>\n",
       "    <tr>\n",
       "      <th>5147</th>\n",
       "      <td>Pity , * mood . ... suggestions ?</td>\n",
       "      <td>ham</td>\n",
       "    </tr>\n",
       "    <tr>\n",
       "      <th>5148</th>\n",
       "      <td>guy bitching acted like 'd interested buying s...</td>\n",
       "      <td>ham</td>\n",
       "    </tr>\n",
       "    <tr>\n",
       "      <th>5149</th>\n",
       "      <td>Rofl . true name</td>\n",
       "      <td>ham</td>\n",
       "    </tr>\n",
       "  </tbody>\n",
       "</table>\n",
       "<p>5150 rows × 2 columns</p>\n",
       "</div>"
      ],
      "text/plain": [
       "                                                   Text Category\n",
       "0     Go jurong point , crazy .. Available bugis n g...      ham\n",
       "1                       Ok lar ... Joking wif u oni ...      ham\n",
       "2     Free entry 2 wkly comp win FA Cup final tkts 2...     spam\n",
       "3           U dun say early hor ... U c already say ...      ham\n",
       "4          Nah n't think goes usf , lives around though      ham\n",
       "...                                                 ...      ...\n",
       "5145  2nd time tried 2 contact u. U Â£750 Pound priz...     spam\n",
       "5146                     Ã¼ b going esplanade fr home ?      ham\n",
       "5147                  Pity , * mood . ... suggestions ?      ham\n",
       "5148  guy bitching acted like 'd interested buying s...      ham\n",
       "5149                                   Rofl . true name      ham\n",
       "\n",
       "[5150 rows x 2 columns]"
      ]
     },
     "execution_count": 3,
     "metadata": {},
     "output_type": "execute_result"
    }
   ],
   "source": [
    "for key,value in messages.items():\n",
    "    newrow=[key,value]\n",
    "    dfTrainingData.loc[len(dfTrainingData)]=newrow\n",
    "\n",
    "dfTrainingData"
   ]
  },
  {
   "cell_type": "code",
   "execution_count": 4,
   "metadata": {},
   "outputs": [
    {
     "name": "stdout",
     "output_type": "stream",
     "text": [
      "0.12446601941747573 0.8755339805825243\n",
      "0.12446601941747573\n"
     ]
    }
   ],
   "source": [
    "\n",
    "Pspam=len(dfTrainingData[dfTrainingData[\"Category\"]==\"spam\"])/len(dfTrainingData)\n",
    "Pham=1-Pspam\n",
    "print(Pspam,Pham)\n",
    "print(Pspam)"
   ]
  },
  {
   "cell_type": "code",
   "execution_count": 5,
   "metadata": {},
   "outputs": [],
   "source": [
    "train_size = int(len(dfTrainingData) * 0.7)\n",
    "test_size = len(dfTrainingData) - train_size\n",
    "\n",
    "DataforTrain = dfTrainingData.iloc[:train_size]\n",
    "DataforTest = dfTrainingData.iloc[train_size:]\n"
   ]
  },
  {
   "cell_type": "code",
   "execution_count": 6,
   "metadata": {},
   "outputs": [],
   "source": [
    "SpamText=[]\n",
    "HamText=[]\n",
    "\n",
    "dham= DataforTrain[DataforTrain[\"Category\"]==\"ham\"][\"Text\"]\n",
    "for i in range(len(dham)):\n",
    "    text=dham.iloc[i]\n",
    "    text=nltk.word_tokenize(text)\n",
    "    HamText+=text\n",
    "    \n",
    "dspam=DataforTrain[DataforTrain[\"Category\"]==\"spam\"][\"Text\"]\n",
    "for i in range(len(dspam)):\n",
    "    text=dspam.iloc[i]\n",
    "    text=nltk.word_tokenize(text)\n",
    "    SpamText+=text"
   ]
  },
  {
   "cell_type": "code",
   "execution_count": 7,
   "metadata": {},
   "outputs": [],
   "source": [
    "dfPrediction = pd.DataFrame(index=range(len(DataforTest)), columns=['Text', 'Category', 'Prediction'])"
   ]
  },
  {
   "cell_type": "code",
   "execution_count": 8,
   "metadata": {},
   "outputs": [],
   "source": [
    "# Pre-compute word frequencies\n",
    "spam_word_counts = {}\n",
    "ham_word_counts = {}\n",
    "for word in SpamText:\n",
    "    spam_word_counts[word] = spam_word_counts.get(word, 0) + 1\n",
    "for word in HamText:\n",
    "    ham_word_counts[word] = ham_word_counts.get(word, 0) + 1\n",
    "\n"
   ]
  },
  {
   "cell_type": "code",
   "execution_count": 9,
   "metadata": {},
   "outputs": [],
   "source": [
    "dfPrediction = pd.DataFrame(index=range(len(DataforTest)), columns=['Text', 'Category', 'Prediction'])\n",
    "\n",
    "for i in range(len(DataforTest)):\n",
    "    text = DataforTest.iloc[i][\"Text\"]\n",
    "    cat = DataforTest.iloc[i][\"Category\"]\n",
    "    listtext = nltk.word_tokenize(text)\n",
    "    proSpam = 1\n",
    "    proham = 1\n",
    "    \n",
    "    for j in listtext:\n",
    "        if spam_word_counts.get(j,0)==0 or ham_word_counts.get(j,0)==0:\n",
    "            continue\n",
    "        proSpam = proSpam*(spam_word_counts.get(j)/len(SpamText))\n",
    "        proham = proham*(ham_word_counts.get(j)/len(HamText))\n",
    "    \n",
    "    proham = proham*Pham\n",
    "    proSpam = proSpam*Pspam\n",
    "    \n",
    "    dfPrediction.iloc[i] = [text, cat, 'spam' if proSpam > proham else 'ham']"
   ]
  },
  {
   "cell_type": "code",
   "execution_count": 10,
   "metadata": {},
   "outputs": [
    {
     "data": {
      "text/html": [
       "<div>\n",
       "<style scoped>\n",
       "    .dataframe tbody tr th:only-of-type {\n",
       "        vertical-align: middle;\n",
       "    }\n",
       "\n",
       "    .dataframe tbody tr th {\n",
       "        vertical-align: top;\n",
       "    }\n",
       "\n",
       "    .dataframe thead th {\n",
       "        text-align: right;\n",
       "    }\n",
       "</style>\n",
       "<table border=\"1\" class=\"dataframe\">\n",
       "  <thead>\n",
       "    <tr style=\"text-align: right;\">\n",
       "      <th></th>\n",
       "      <th>Text</th>\n",
       "      <th>Category</th>\n",
       "      <th>Prediction</th>\n",
       "    </tr>\n",
       "  </thead>\n",
       "  <tbody>\n",
       "    <tr>\n",
       "      <th>20</th>\n",
       "      <td>Oh god ! 've found number ! 'm glad , text bac...</td>\n",
       "      <td>spam</td>\n",
       "      <td>ham</td>\n",
       "    </tr>\n",
       "    <tr>\n",
       "      <th>22</th>\n",
       "      <td>THATÂ ’ ALRITE GIRL , U KNOW GAIL NEVA WRONG !...</td>\n",
       "      <td>ham</td>\n",
       "      <td>spam</td>\n",
       "    </tr>\n",
       "    <tr>\n",
       "      <th>39</th>\n",
       "      <td>link picture sent . also use http : //alto18.c...</td>\n",
       "      <td>spam</td>\n",
       "      <td>ham</td>\n",
       "    </tr>\n",
       "    <tr>\n",
       "      <th>50</th>\n",
       "      <td>Yes . Last practice</td>\n",
       "      <td>ham</td>\n",
       "      <td>spam</td>\n",
       "    </tr>\n",
       "    <tr>\n",
       "      <th>88</th>\n",
       "      <td>FIRST STRIKE RED ONE . BIRD + ANTELOPE BEGIN T...</td>\n",
       "      <td>ham</td>\n",
       "      <td>spam</td>\n",
       "    </tr>\n",
       "    <tr>\n",
       "      <th>102</th>\n",
       "      <td>Refused loan ? Secured Unsecured ? Ca n't get ...</td>\n",
       "      <td>spam</td>\n",
       "      <td>ham</td>\n",
       "    </tr>\n",
       "    <tr>\n",
       "      <th>126</th>\n",
       "      <td>CERI U REBEL ! SWEET DREAMZ LITTLE BUDDY ! ! C...</td>\n",
       "      <td>ham</td>\n",
       "      <td>spam</td>\n",
       "    </tr>\n",
       "    <tr>\n",
       "      <th>127</th>\n",
       "      <td>ringtoneking 84484</td>\n",
       "      <td>spam</td>\n",
       "      <td>ham</td>\n",
       "    </tr>\n",
       "    <tr>\n",
       "      <th>156</th>\n",
       "      <td>receiving week 's Triple Echo ringtone shortly...</td>\n",
       "      <td>spam</td>\n",
       "      <td>ham</td>\n",
       "    </tr>\n",
       "    <tr>\n",
       "      <th>175</th>\n",
       "      <td>Wot u 2 ? Thout u gon na call ! ! Txt bak luv K</td>\n",
       "      <td>ham</td>\n",
       "      <td>spam</td>\n",
       "    </tr>\n",
       "  </tbody>\n",
       "</table>\n",
       "</div>"
      ],
      "text/plain": [
       "                                                  Text Category Prediction\n",
       "20   Oh god ! 've found number ! 'm glad , text bac...     spam        ham\n",
       "22   THATÂ ’ ALRITE GIRL , U KNOW GAIL NEVA WRONG !...      ham       spam\n",
       "39   link picture sent . also use http : //alto18.c...     spam        ham\n",
       "50                                 Yes . Last practice      ham       spam\n",
       "88   FIRST STRIKE RED ONE . BIRD + ANTELOPE BEGIN T...      ham       spam\n",
       "102  Refused loan ? Secured Unsecured ? Ca n't get ...     spam        ham\n",
       "126  CERI U REBEL ! SWEET DREAMZ LITTLE BUDDY ! ! C...      ham       spam\n",
       "127                                 ringtoneking 84484     spam        ham\n",
       "156  receiving week 's Triple Echo ringtone shortly...     spam        ham\n",
       "175    Wot u 2 ? Thout u gon na call ! ! Txt bak luv K      ham       spam"
      ]
     },
     "execution_count": 10,
     "metadata": {},
     "output_type": "execute_result"
    }
   ],
   "source": [
    "dfPrediction[dfPrediction[\"Category\"]!=dfPrediction[\"Prediction\"]].head(10)"
   ]
  },
  {
   "cell_type": "code",
   "execution_count": 11,
   "metadata": {},
   "outputs": [],
   "source": [
    "hamham=len(dfPrediction[(dfPrediction[\"Category\"]==\"ham\")&(dfPrediction[\"Prediction\"]==\"ham\")])\n",
    "hamspam=len(dfPrediction[(dfPrediction[\"Category\"]==\"ham\")&(dfPrediction[\"Prediction\"]==\"spam\")])\n",
    "spamham=len(dfPrediction[(dfPrediction[\"Category\"]==\"spam\")&(dfPrediction[\"Prediction\"]==\"ham\")])\n",
    "spamspam=len(dfPrediction[(dfPrediction[\"Category\"]==\"spam\")&(dfPrediction[\"Prediction\"]==\"spam\")])"
   ]
  },
  {
   "cell_type": "code",
   "execution_count": 12,
   "metadata": {},
   "outputs": [],
   "source": [
    "precision=hamham/(hamham+spamham)\n",
    "\n",
    "recall=hamham/(hamham+spamspam)\n",
    "\n",
    "f1=(2*recall*precision)/(recall+precision)\n",
    "\n",
    "accuracy=(hamham+spamham)/(hamham+spamham+hamspam+spamspam)"
   ]
  },
  {
   "cell_type": "code",
   "execution_count": 13,
   "metadata": {},
   "outputs": [
    {
     "name": "stdout",
     "output_type": "stream",
     "text": [
      "Recall:  0.8945233265720081\n",
      "Precision:  0.98\n",
      "F1 score:  0.9353128313891834\n",
      "Accuracy:  0.8732212160413971\n"
     ]
    }
   ],
   "source": [
    "print(\"Recall: \", recall)\n",
    "print(\"Precision: \",precision)\n",
    "print(\"F1 score: \",f1)\n",
    "print(\"Accuracy: \",accuracy)\n"
   ]
  },
  {
   "cell_type": "code",
   "execution_count": 14,
   "metadata": {},
   "outputs": [],
   "source": [
    "def predict():\n",
    "    text = input()\n",
    "    listtext = nltk.word_tokenize(text)\n",
    "    listtext=[word for word in listtext if word.lower() not in stop_words]\n",
    "    proSpam = 1\n",
    "    proham = 1\n",
    "    \n",
    "    for j in listtext:\n",
    "        if spam_word_counts.get(j,0)==0 or ham_word_counts.get(j,0)==0:\n",
    "            continue\n",
    "        proSpam = proSpam*(spam_word_counts.get(j)/len(SpamText))\n",
    "        proham = proham*(ham_word_counts.get(j)/len(HamText))\n",
    "    \n",
    "    proham = proham*Pham\n",
    "    proSpam = proSpam*Pspam\n",
    "    \n",
    "    val= ['spam' if proSpam > proham else 'ham']\n",
    "    print(val)"
   ]
  },
  {
   "cell_type": "code",
   "execution_count": 15,
   "metadata": {},
   "outputs": [
    {
     "name": "stdout",
     "output_type": "stream",
     "text": [
      "['ham']\n"
     ]
    }
   ],
   "source": [
    "predict()"
   ]
  },
  {
   "cell_type": "code",
   "execution_count": null,
   "metadata": {},
   "outputs": [],
   "source": []
  }
 ],
 "metadata": {
  "kernelspec": {
   "display_name": "Python 3",
   "language": "python",
   "name": "python3"
  },
  "language_info": {
   "codemirror_mode": {
    "name": "ipython",
    "version": 3
   },
   "file_extension": ".py",
   "mimetype": "text/x-python",
   "name": "python",
   "nbconvert_exporter": "python",
   "pygments_lexer": "ipython3",
   "version": "3.12.5"
  }
 },
 "nbformat": 4,
 "nbformat_minor": 2
}
